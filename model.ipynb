{
 "cells": [
  {
   "cell_type": "markdown",
   "id": "ab441ca0",
   "metadata": {},
   "source": [
    "Using the titanic data, in your classification-exercises repository, create a notebook, model.ipynb where you will do the following:\n",
    "\n"
   ]
  },
  {
   "cell_type": "code",
   "execution_count": 27,
   "id": "cac80cb3",
   "metadata": {},
   "outputs": [],
   "source": [
    "import pandas as pd\n",
    "import numpy as np\n",
    "import acquire\n",
    "import prepare\n",
    "\n",
    "from sklearn.model_selection import train_test_split\n",
    "from sklearn.tree import DecisionTreeClassifier, plot_tree\n",
    "from sklearn.metrics import classification_report\n",
    "from sklearn.metrics import confusion_matrix\n",
    "\n",
    "import matplotlib.pyplot as plt\n",
    "import seaborn as sns\n",
    "\n",
    "# ignore warnings\n",
    "import warnings\n",
    "warnings.filterwarnings(\"ignore\")"
   ]
  },
  {
   "cell_type": "code",
   "execution_count": 2,
   "id": "8aa10769",
   "metadata": {},
   "outputs": [
    {
     "data": {
      "text/html": [
       "<div>\n",
       "<style scoped>\n",
       "    .dataframe tbody tr th:only-of-type {\n",
       "        vertical-align: middle;\n",
       "    }\n",
       "\n",
       "    .dataframe tbody tr th {\n",
       "        vertical-align: top;\n",
       "    }\n",
       "\n",
       "    .dataframe thead th {\n",
       "        text-align: right;\n",
       "    }\n",
       "</style>\n",
       "<table border=\"1\" class=\"dataframe\">\n",
       "  <thead>\n",
       "    <tr style=\"text-align: right;\">\n",
       "      <th></th>\n",
       "      <th>Unnamed: 0</th>\n",
       "      <th>passenger_id</th>\n",
       "      <th>survived</th>\n",
       "      <th>pclass</th>\n",
       "      <th>sex</th>\n",
       "      <th>age</th>\n",
       "      <th>sibsp</th>\n",
       "      <th>parch</th>\n",
       "      <th>fare</th>\n",
       "      <th>embarked</th>\n",
       "      <th>class</th>\n",
       "      <th>deck</th>\n",
       "      <th>embark_town</th>\n",
       "      <th>alone</th>\n",
       "    </tr>\n",
       "  </thead>\n",
       "  <tbody>\n",
       "    <tr>\n",
       "      <th>0</th>\n",
       "      <td>0</td>\n",
       "      <td>0</td>\n",
       "      <td>0</td>\n",
       "      <td>3</td>\n",
       "      <td>male</td>\n",
       "      <td>22.0</td>\n",
       "      <td>1</td>\n",
       "      <td>0</td>\n",
       "      <td>7.2500</td>\n",
       "      <td>S</td>\n",
       "      <td>Third</td>\n",
       "      <td>NaN</td>\n",
       "      <td>Southampton</td>\n",
       "      <td>0</td>\n",
       "    </tr>\n",
       "    <tr>\n",
       "      <th>1</th>\n",
       "      <td>1</td>\n",
       "      <td>1</td>\n",
       "      <td>1</td>\n",
       "      <td>1</td>\n",
       "      <td>female</td>\n",
       "      <td>38.0</td>\n",
       "      <td>1</td>\n",
       "      <td>0</td>\n",
       "      <td>71.2833</td>\n",
       "      <td>C</td>\n",
       "      <td>First</td>\n",
       "      <td>C</td>\n",
       "      <td>Cherbourg</td>\n",
       "      <td>0</td>\n",
       "    </tr>\n",
       "    <tr>\n",
       "      <th>2</th>\n",
       "      <td>2</td>\n",
       "      <td>2</td>\n",
       "      <td>1</td>\n",
       "      <td>3</td>\n",
       "      <td>female</td>\n",
       "      <td>26.0</td>\n",
       "      <td>0</td>\n",
       "      <td>0</td>\n",
       "      <td>7.9250</td>\n",
       "      <td>S</td>\n",
       "      <td>Third</td>\n",
       "      <td>NaN</td>\n",
       "      <td>Southampton</td>\n",
       "      <td>1</td>\n",
       "    </tr>\n",
       "    <tr>\n",
       "      <th>3</th>\n",
       "      <td>3</td>\n",
       "      <td>3</td>\n",
       "      <td>1</td>\n",
       "      <td>1</td>\n",
       "      <td>female</td>\n",
       "      <td>35.0</td>\n",
       "      <td>1</td>\n",
       "      <td>0</td>\n",
       "      <td>53.1000</td>\n",
       "      <td>S</td>\n",
       "      <td>First</td>\n",
       "      <td>C</td>\n",
       "      <td>Southampton</td>\n",
       "      <td>0</td>\n",
       "    </tr>\n",
       "    <tr>\n",
       "      <th>4</th>\n",
       "      <td>4</td>\n",
       "      <td>4</td>\n",
       "      <td>0</td>\n",
       "      <td>3</td>\n",
       "      <td>male</td>\n",
       "      <td>35.0</td>\n",
       "      <td>0</td>\n",
       "      <td>0</td>\n",
       "      <td>8.0500</td>\n",
       "      <td>S</td>\n",
       "      <td>Third</td>\n",
       "      <td>NaN</td>\n",
       "      <td>Southampton</td>\n",
       "      <td>1</td>\n",
       "    </tr>\n",
       "    <tr>\n",
       "      <th>...</th>\n",
       "      <td>...</td>\n",
       "      <td>...</td>\n",
       "      <td>...</td>\n",
       "      <td>...</td>\n",
       "      <td>...</td>\n",
       "      <td>...</td>\n",
       "      <td>...</td>\n",
       "      <td>...</td>\n",
       "      <td>...</td>\n",
       "      <td>...</td>\n",
       "      <td>...</td>\n",
       "      <td>...</td>\n",
       "      <td>...</td>\n",
       "      <td>...</td>\n",
       "    </tr>\n",
       "    <tr>\n",
       "      <th>886</th>\n",
       "      <td>886</td>\n",
       "      <td>886</td>\n",
       "      <td>0</td>\n",
       "      <td>2</td>\n",
       "      <td>male</td>\n",
       "      <td>27.0</td>\n",
       "      <td>0</td>\n",
       "      <td>0</td>\n",
       "      <td>13.0000</td>\n",
       "      <td>S</td>\n",
       "      <td>Second</td>\n",
       "      <td>NaN</td>\n",
       "      <td>Southampton</td>\n",
       "      <td>1</td>\n",
       "    </tr>\n",
       "    <tr>\n",
       "      <th>887</th>\n",
       "      <td>887</td>\n",
       "      <td>887</td>\n",
       "      <td>1</td>\n",
       "      <td>1</td>\n",
       "      <td>female</td>\n",
       "      <td>19.0</td>\n",
       "      <td>0</td>\n",
       "      <td>0</td>\n",
       "      <td>30.0000</td>\n",
       "      <td>S</td>\n",
       "      <td>First</td>\n",
       "      <td>B</td>\n",
       "      <td>Southampton</td>\n",
       "      <td>1</td>\n",
       "    </tr>\n",
       "    <tr>\n",
       "      <th>888</th>\n",
       "      <td>888</td>\n",
       "      <td>888</td>\n",
       "      <td>0</td>\n",
       "      <td>3</td>\n",
       "      <td>female</td>\n",
       "      <td>NaN</td>\n",
       "      <td>1</td>\n",
       "      <td>2</td>\n",
       "      <td>23.4500</td>\n",
       "      <td>S</td>\n",
       "      <td>Third</td>\n",
       "      <td>NaN</td>\n",
       "      <td>Southampton</td>\n",
       "      <td>0</td>\n",
       "    </tr>\n",
       "    <tr>\n",
       "      <th>889</th>\n",
       "      <td>889</td>\n",
       "      <td>889</td>\n",
       "      <td>1</td>\n",
       "      <td>1</td>\n",
       "      <td>male</td>\n",
       "      <td>26.0</td>\n",
       "      <td>0</td>\n",
       "      <td>0</td>\n",
       "      <td>30.0000</td>\n",
       "      <td>C</td>\n",
       "      <td>First</td>\n",
       "      <td>C</td>\n",
       "      <td>Cherbourg</td>\n",
       "      <td>1</td>\n",
       "    </tr>\n",
       "    <tr>\n",
       "      <th>890</th>\n",
       "      <td>890</td>\n",
       "      <td>890</td>\n",
       "      <td>0</td>\n",
       "      <td>3</td>\n",
       "      <td>male</td>\n",
       "      <td>32.0</td>\n",
       "      <td>0</td>\n",
       "      <td>0</td>\n",
       "      <td>7.7500</td>\n",
       "      <td>Q</td>\n",
       "      <td>Third</td>\n",
       "      <td>NaN</td>\n",
       "      <td>Queenstown</td>\n",
       "      <td>1</td>\n",
       "    </tr>\n",
       "  </tbody>\n",
       "</table>\n",
       "<p>891 rows × 14 columns</p>\n",
       "</div>"
      ],
      "text/plain": [
       "     Unnamed: 0  passenger_id  survived  pclass     sex   age  sibsp  parch  \\\n",
       "0             0             0         0       3    male  22.0      1      0   \n",
       "1             1             1         1       1  female  38.0      1      0   \n",
       "2             2             2         1       3  female  26.0      0      0   \n",
       "3             3             3         1       1  female  35.0      1      0   \n",
       "4             4             4         0       3    male  35.0      0      0   \n",
       "..          ...           ...       ...     ...     ...   ...    ...    ...   \n",
       "886         886           886         0       2    male  27.0      0      0   \n",
       "887         887           887         1       1  female  19.0      0      0   \n",
       "888         888           888         0       3  female   NaN      1      2   \n",
       "889         889           889         1       1    male  26.0      0      0   \n",
       "890         890           890         0       3    male  32.0      0      0   \n",
       "\n",
       "        fare embarked   class deck  embark_town  alone  \n",
       "0     7.2500        S   Third  NaN  Southampton      0  \n",
       "1    71.2833        C   First    C    Cherbourg      0  \n",
       "2     7.9250        S   Third  NaN  Southampton      1  \n",
       "3    53.1000        S   First    C  Southampton      0  \n",
       "4     8.0500        S   Third  NaN  Southampton      1  \n",
       "..       ...      ...     ...  ...          ...    ...  \n",
       "886  13.0000        S  Second  NaN  Southampton      1  \n",
       "887  30.0000        S   First    B  Southampton      1  \n",
       "888  23.4500        S   Third  NaN  Southampton      0  \n",
       "889  30.0000        C   First    C    Cherbourg      1  \n",
       "890   7.7500        Q   Third  NaN   Queenstown      1  \n",
       "\n",
       "[891 rows x 14 columns]"
      ]
     },
     "execution_count": 2,
     "metadata": {},
     "output_type": "execute_result"
    }
   ],
   "source": [
    "titanic = acquire.get_titanic_data()\n",
    "titanic"
   ]
  },
  {
   "cell_type": "code",
   "execution_count": 3,
   "id": "cb699f6e",
   "metadata": {},
   "outputs": [
    {
     "data": {
      "text/html": [
       "<div>\n",
       "<style scoped>\n",
       "    .dataframe tbody tr th:only-of-type {\n",
       "        vertical-align: middle;\n",
       "    }\n",
       "\n",
       "    .dataframe tbody tr th {\n",
       "        vertical-align: top;\n",
       "    }\n",
       "\n",
       "    .dataframe thead th {\n",
       "        text-align: right;\n",
       "    }\n",
       "</style>\n",
       "<table border=\"1\" class=\"dataframe\">\n",
       "  <thead>\n",
       "    <tr style=\"text-align: right;\">\n",
       "      <th></th>\n",
       "      <th>survived</th>\n",
       "      <th>pclass</th>\n",
       "      <th>age</th>\n",
       "      <th>sibsp</th>\n",
       "      <th>parch</th>\n",
       "      <th>fare</th>\n",
       "      <th>alone</th>\n",
       "      <th>sex_male</th>\n",
       "      <th>embark_town_Queenstown</th>\n",
       "      <th>embark_town_Southampton</th>\n",
       "    </tr>\n",
       "  </thead>\n",
       "  <tbody>\n",
       "    <tr>\n",
       "      <th>301</th>\n",
       "      <td>1</td>\n",
       "      <td>3</td>\n",
       "      <td>30.189296</td>\n",
       "      <td>2</td>\n",
       "      <td>0</td>\n",
       "      <td>23.2500</td>\n",
       "      <td>0</td>\n",
       "      <td>1</td>\n",
       "      <td>1</td>\n",
       "      <td>0</td>\n",
       "    </tr>\n",
       "    <tr>\n",
       "      <th>290</th>\n",
       "      <td>1</td>\n",
       "      <td>1</td>\n",
       "      <td>26.000000</td>\n",
       "      <td>0</td>\n",
       "      <td>0</td>\n",
       "      <td>78.8500</td>\n",
       "      <td>1</td>\n",
       "      <td>0</td>\n",
       "      <td>0</td>\n",
       "      <td>1</td>\n",
       "    </tr>\n",
       "    <tr>\n",
       "      <th>779</th>\n",
       "      <td>1</td>\n",
       "      <td>1</td>\n",
       "      <td>43.000000</td>\n",
       "      <td>0</td>\n",
       "      <td>1</td>\n",
       "      <td>211.3375</td>\n",
       "      <td>0</td>\n",
       "      <td>0</td>\n",
       "      <td>0</td>\n",
       "      <td>1</td>\n",
       "    </tr>\n",
       "    <tr>\n",
       "      <th>356</th>\n",
       "      <td>1</td>\n",
       "      <td>1</td>\n",
       "      <td>22.000000</td>\n",
       "      <td>0</td>\n",
       "      <td>1</td>\n",
       "      <td>55.0000</td>\n",
       "      <td>0</td>\n",
       "      <td>0</td>\n",
       "      <td>0</td>\n",
       "      <td>1</td>\n",
       "    </tr>\n",
       "    <tr>\n",
       "      <th>147</th>\n",
       "      <td>0</td>\n",
       "      <td>3</td>\n",
       "      <td>9.000000</td>\n",
       "      <td>2</td>\n",
       "      <td>2</td>\n",
       "      <td>34.3750</td>\n",
       "      <td>0</td>\n",
       "      <td>0</td>\n",
       "      <td>0</td>\n",
       "      <td>1</td>\n",
       "    </tr>\n",
       "  </tbody>\n",
       "</table>\n",
       "</div>"
      ],
      "text/plain": [
       "     survived  pclass        age  sibsp  parch      fare  alone  sex_male  \\\n",
       "301         1       3  30.189296      2      0   23.2500      0         1   \n",
       "290         1       1  26.000000      0      0   78.8500      1         0   \n",
       "779         1       1  43.000000      0      1  211.3375      0         0   \n",
       "356         1       1  22.000000      0      1   55.0000      0         0   \n",
       "147         0       3   9.000000      2      2   34.3750      0         0   \n",
       "\n",
       "     embark_town_Queenstown  embark_town_Southampton  \n",
       "301                       1                        0  \n",
       "290                       0                        1  \n",
       "779                       0                        1  \n",
       "356                       0                        1  \n",
       "147                       0                        1  "
      ]
     },
     "execution_count": 3,
     "metadata": {},
     "output_type": "execute_result"
    }
   ],
   "source": [
    "train, validate, test = prepare.prep_titanic_data(titanic)\n",
    "train, validate, test = prepare.impute_age_titanic(train, validate, test)\n",
    "train.head()"
   ]
  },
  {
   "cell_type": "code",
   "execution_count": 5,
   "id": "b1307135",
   "metadata": {},
   "outputs": [
    {
     "name": "stdout",
     "output_type": "stream",
     "text": [
      "<class 'pandas.core.frame.DataFrame'>\n",
      "Int64Index: 498 entries, 301 to 3\n",
      "Data columns (total 10 columns):\n",
      " #   Column                   Non-Null Count  Dtype  \n",
      "---  ------                   --------------  -----  \n",
      " 0   survived                 498 non-null    int64  \n",
      " 1   pclass                   498 non-null    int64  \n",
      " 2   age                      498 non-null    float64\n",
      " 3   sibsp                    498 non-null    int64  \n",
      " 4   parch                    498 non-null    int64  \n",
      " 5   fare                     498 non-null    float64\n",
      " 6   alone                    498 non-null    int64  \n",
      " 7   sex_male                 498 non-null    uint8  \n",
      " 8   embark_town_Queenstown   498 non-null    uint8  \n",
      " 9   embark_town_Southampton  498 non-null    uint8  \n",
      "dtypes: float64(2), int64(5), uint8(3)\n",
      "memory usage: 32.6 KB\n",
      "<class 'pandas.core.frame.DataFrame'>\n",
      "Int64Index: 214 entries, 91 to 466\n",
      "Data columns (total 10 columns):\n",
      " #   Column                   Non-Null Count  Dtype  \n",
      "---  ------                   --------------  -----  \n",
      " 0   survived                 214 non-null    int64  \n",
      " 1   pclass                   214 non-null    int64  \n",
      " 2   age                      214 non-null    float64\n",
      " 3   sibsp                    214 non-null    int64  \n",
      " 4   parch                    214 non-null    int64  \n",
      " 5   fare                     214 non-null    float64\n",
      " 6   alone                    214 non-null    int64  \n",
      " 7   sex_male                 214 non-null    uint8  \n",
      " 8   embark_town_Queenstown   214 non-null    uint8  \n",
      " 9   embark_town_Southampton  214 non-null    uint8  \n",
      "dtypes: float64(2), int64(5), uint8(3)\n",
      "memory usage: 14.0 KB\n",
      "<class 'pandas.core.frame.DataFrame'>\n",
      "Int64Index: 179 entries, 92 to 631\n",
      "Data columns (total 10 columns):\n",
      " #   Column                   Non-Null Count  Dtype  \n",
      "---  ------                   --------------  -----  \n",
      " 0   survived                 179 non-null    int64  \n",
      " 1   pclass                   179 non-null    int64  \n",
      " 2   age                      179 non-null    float64\n",
      " 3   sibsp                    179 non-null    int64  \n",
      " 4   parch                    179 non-null    int64  \n",
      " 5   fare                     179 non-null    float64\n",
      " 6   alone                    179 non-null    int64  \n",
      " 7   sex_male                 179 non-null    uint8  \n",
      " 8   embark_town_Queenstown   179 non-null    uint8  \n",
      " 9   embark_town_Southampton  179 non-null    uint8  \n",
      "dtypes: float64(2), int64(5), uint8(3)\n",
      "memory usage: 11.7 KB\n"
     ]
    },
    {
     "data": {
      "text/plain": [
       "(None, None, None)"
      ]
     },
     "execution_count": 5,
     "metadata": {},
     "output_type": "execute_result"
    }
   ],
   "source": [
    "train.info(), validate.info(), test.info()"
   ]
  },
  {
   "cell_type": "code",
   "execution_count": 13,
   "id": "02d1c7cd",
   "metadata": {},
   "outputs": [
    {
     "data": {
      "text/plain": [
       "(0    307\n",
       " 1    191\n",
       " Name: survived, dtype: int64,\n",
       " 0    132\n",
       " 1     82\n",
       " Name: survived, dtype: int64,\n",
       " 0    110\n",
       " 1     69\n",
       " Name: survived, dtype: int64)"
      ]
     },
     "execution_count": 13,
     "metadata": {},
     "output_type": "execute_result"
    }
   ],
   "source": [
    "train.survived.value_counts(), validate.survived.value_counts(), test.survived.value_counts()"
   ]
  },
  {
   "cell_type": "markdown",
   "id": "5ba02e9d",
   "metadata": {},
   "source": [
    "The data was split to the train, validate, test subgroups with the target of survived appropriately divided."
   ]
  },
  {
   "cell_type": "code",
   "execution_count": 14,
   "id": "56ee2f2c",
   "metadata": {},
   "outputs": [
    {
     "data": {
      "text/plain": [
       "0"
      ]
     },
     "execution_count": 14,
     "metadata": {},
     "output_type": "execute_result"
    }
   ],
   "source": [
    "# 1. What is your baseline prediction?\n",
    "baseline_prediction = 0 \n",
    "baseline_prediction\n",
    "\n",
    "# 0 as a boolean in the survived column representing did not survive"
   ]
  },
  {
   "cell_type": "code",
   "execution_count": 17,
   "id": "8ab7aacb",
   "metadata": {},
   "outputs": [
    {
     "data": {
      "text/plain": [
       "0.6164658634538153"
      ]
     },
     "execution_count": 17,
     "metadata": {},
     "output_type": "execute_result"
    }
   ],
   "source": [
    "# What is your baseline accuracy? remember: your baseline prediction for a classification problem is predicting the \n",
    "# most prevelant class in the training dataset (the mode). When you make those predictions, what is your accuracy? \n",
    "# This is your baseline accuracy.\n",
    "train[train.survived == baseline_prediction].shape[0] / train.shape[0]\n",
    "\n",
    "# Baseline accuracy is roughly 61.6% of passengers in the titanic dataset died."
   ]
  },
  {
   "cell_type": "code",
   "execution_count": 47,
   "id": "b825ff09",
   "metadata": {},
   "outputs": [],
   "source": [
    "# 2. Fit the decision tree classifier to your training sample and transform (i.e. make predictions on the training \n",
    "# sample)\n",
    "\n",
    "X_train = train.drop(columns=['survived'])\n",
    "y_train = train.survived\n",
    "\n",
    "X_validate = validate.drop(columns=['survived'])\n",
    "y_validate = validate.survived\n",
    "\n",
    "X_test = test.drop(columns=['survived'])\n",
    "y_test = test.survived\n",
    "\n",
    "clf_3_deep = DecisionTreeClassifier(max_depth=3, random_state=123)\n",
    "clf_3_deep = clf_3_deep.fit(X_train, y_train)"
   ]
  },
  {
   "cell_type": "code",
   "execution_count": 48,
   "id": "afa6e4a1",
   "metadata": {},
   "outputs": [
    {
     "data": {
      "text/plain": [
       "[Text(392.92499999999995, 332.955, 'sex_male <= 0.5\\ngini = 0.473\\nsamples = 498\\nvalue = [307, 191]\\nclass = 0'),\n",
       " Text(241.79999999999998, 237.825, 'pclass <= 2.5\\ngini = 0.411\\nsamples = 187\\nvalue = [54, 133]\\nclass = 1'),\n",
       " Text(120.89999999999999, 142.695, 'age <= 43.5\\ngini = 0.116\\nsamples = 97\\nvalue = [6, 91]\\nclass = 1'),\n",
       " Text(60.449999999999996, 47.565, 'gini = 0.072\\nsamples = 80\\nvalue = [3, 77]\\nclass = 1'),\n",
       " Text(181.35, 47.565, 'gini = 0.291\\nsamples = 17\\nvalue = [3, 14]\\nclass = 1'),\n",
       " Text(362.7, 142.695, 'fare <= 24.808\\ngini = 0.498\\nsamples = 90\\nvalue = [48, 42]\\nclass = 0'),\n",
       " Text(302.25, 47.565, 'gini = 0.493\\nsamples = 75\\nvalue = [33, 42]\\nclass = 1'),\n",
       " Text(423.15, 47.565, 'gini = 0.0\\nsamples = 15\\nvalue = [15, 0]\\nclass = 0'),\n",
       " Text(544.05, 237.825, 'age <= 3.5\\ngini = 0.303\\nsamples = 311\\nvalue = [253, 58]\\nclass = 0'),\n",
       " Text(483.59999999999997, 142.695, 'gini = 0.0\\nsamples = 5\\nvalue = [0, 5]\\nclass = 1'),\n",
       " Text(604.5, 142.695, 'fare <= 26.144\\ngini = 0.286\\nsamples = 306\\nvalue = [253, 53]\\nclass = 0'),\n",
       " Text(544.05, 47.565, 'gini = 0.21\\nsamples = 227\\nvalue = [200, 27]\\nclass = 0'),\n",
       " Text(664.9499999999999, 47.565, 'gini = 0.442\\nsamples = 79\\nvalue = [53, 26]\\nclass = 0')]"
      ]
     },
     "execution_count": 48,
     "metadata": {},
     "output_type": "execute_result"
    },
    {
     "data": {
      "image/png": "[encoded data removed]",
      "text/plain": [
       "<Figure size 936x504 with 1 Axes>"
      ]
     },
     "metadata": {
      "needs_background": "light"
     },
     "output_type": "display_data"
    }
   ],
   "source": [
    "plt.figure(figsize=(13, 7))\n",
    "plot_tree(clf_3_deep, feature_names=X_train.columns, class_names=clf_3_deep.classes_.astype(str), rounded=True)\n"
   ]
  },
  {
   "cell_type": "code",
   "execution_count": 65,
   "id": "8200588a",
   "metadata": {},
   "outputs": [
    {
     "data": {
      "text/plain": [
       "array([0, 1, 1, 1, 0, 1, 0, 0, 1, 0, 0, 0, 0, 1, 0, 0, 0, 0, 0, 1, 0, 0,\n",
       "       0, 1, 1, 0, 0, 0, 1, 0, 0, 1, 0, 1, 0, 0, 0, 0, 1, 0, 0, 1, 1, 0,\n",
       "       0, 0, 0, 0, 1, 0, 0, 0, 0, 0, 0, 0, 0, 1, 0, 1, 0, 0, 0, 0, 0, 0,\n",
       "       1, 1, 1, 0, 0, 0, 0, 1, 1, 0, 0, 0, 0, 1, 0, 1, 0, 0, 1, 0, 0, 0,\n",
       "       0, 0, 1, 0, 1, 1, 0, 1, 0, 1, 0, 0, 1, 0, 0, 1, 0, 0, 1, 0, 1, 0,\n",
       "       1, 0, 0, 0, 0, 1, 0, 1, 1, 0, 0, 0, 1, 0, 0, 1, 1, 1, 1, 0, 0, 0,\n",
       "       0, 1, 1, 0, 0, 1, 0, 1, 0, 0, 0, 0, 0, 1, 0, 0, 0, 0, 0, 1, 1, 1,\n",
       "       0, 0, 0, 1, 0, 0, 0, 0, 0, 1, 0, 0, 0, 1, 0, 0, 1, 0, 1, 0, 0, 0,\n",
       "       0, 0, 0, 0, 0, 0, 0, 0, 1, 0, 0, 1, 0, 0, 0, 0, 0, 1, 0, 1, 0, 0,\n",
       "       0, 0, 0, 0, 0, 0, 1, 0, 0, 0, 0, 0, 0, 0, 0, 0, 1, 1, 0, 0, 0, 0,\n",
       "       1, 1, 0, 1, 0, 1, 1, 1, 0, 0, 0, 1, 0, 1, 0, 1, 0, 0, 0, 0, 0, 1,\n",
       "       1, 0, 1, 0, 0, 1, 0, 0, 0, 1, 0, 1, 0, 0, 0, 1, 0, 0, 1, 0, 1, 0,\n",
       "       0, 0, 0, 0, 0, 0, 1, 0, 0, 0, 0, 1, 0, 1, 1, 1, 0, 1, 0, 1, 0, 0,\n",
       "       0, 0, 0, 0, 1, 0, 0, 1, 0, 0, 0, 1, 0, 0, 0, 1, 0, 0, 1, 1, 0, 1,\n",
       "       0, 0, 0, 0, 0, 0, 0, 0, 1, 0, 1, 0, 1, 0, 0, 1, 0, 0, 0, 0, 0, 0,\n",
       "       0, 0, 0, 0, 0, 0, 1, 0, 0, 0, 0, 1, 0, 0, 0, 0, 0, 0, 0, 0, 0, 0,\n",
       "       1, 1, 0, 0, 1, 1, 0, 0, 0, 0, 0, 0, 0, 1, 0, 1, 1, 1, 0, 0, 1, 0,\n",
       "       0, 0, 0, 0, 0, 0, 1, 1, 1, 0, 0, 0, 1, 0, 1, 0, 0, 1, 1, 1, 0, 0,\n",
       "       0, 0, 1, 0, 0, 0, 0, 0, 1, 0, 0, 0, 0, 0, 0, 0, 0, 0, 0, 0, 0, 1,\n",
       "       0, 0, 0, 1, 0, 1, 0, 0, 0, 0, 1, 0, 0, 0, 0, 0, 0, 0, 0, 0, 0, 0,\n",
       "       0, 0, 0, 0, 0, 0, 0, 1, 1, 0, 0, 0, 1, 0, 1, 1, 1, 0, 0, 0, 0, 0,\n",
       "       1, 0, 0, 0, 1, 0, 0, 0, 0, 0, 0, 0, 0, 0, 0, 1, 1, 0, 0, 1, 0, 0,\n",
       "       0, 0, 0, 0, 1, 0, 0, 0, 0, 0, 0, 1, 0, 1])"
      ]
     },
     "execution_count": 65,
     "metadata": {},
     "output_type": "execute_result"
    }
   ],
   "source": [
    "y_pred_3 = clf_3_deep.predict(X_train)\n",
    "y_pred"
   ]
  },
  {
   "cell_type": "markdown",
   "id": "d72cc2ef",
   "metadata": {},
   "source": [
    "##### #3. Evaluate your in-sample results using the model score, confusion matrix, and classification report."
   ]
  },
  {
   "cell_type": "code",
   "execution_count": 52,
   "id": "9e94e790",
   "metadata": {},
   "outputs": [
    {
     "name": "stdout",
     "output_type": "stream",
     "text": [
      "Accuracy of Decision Tree classifier on training set: 0.82\n"
     ]
    }
   ],
   "source": [
    "print(f'Accuracy of Decision Tree classifier on training set: {clf_3_deep.score(X_train, y_train):.2f}')"
   ]
  },
  {
   "cell_type": "code",
   "execution_count": 68,
   "id": "6675fae7",
   "metadata": {},
   "outputs": [
    {
     "data": {
      "text/plain": [
       "array([[268,  39],\n",
       "       [ 53, 138]])"
      ]
     },
     "execution_count": 68,
     "metadata": {},
     "output_type": "execute_result"
    }
   ],
   "source": [
    "confusion_matrix(y_train, y_pred_3)"
   ]
  },
  {
   "cell_type": "code",
   "execution_count": 54,
   "id": "62851a49",
   "metadata": {},
   "outputs": [
    {
     "data": {
      "text/plain": [
       "0    307\n",
       "1    191\n",
       "Name: survived, dtype: int64"
      ]
     },
     "execution_count": 54,
     "metadata": {},
     "output_type": "execute_result"
    }
   ],
   "source": [
    "y_train.value_counts()"
   ]
  },
  {
   "cell_type": "code",
   "execution_count": 69,
   "id": "104d84d8",
   "metadata": {},
   "outputs": [
    {
     "data": {
      "text/html": [
       "<div>\n",
       "<style scoped>\n",
       "    .dataframe tbody tr th:only-of-type {\n",
       "        vertical-align: middle;\n",
       "    }\n",
       "\n",
       "    .dataframe tbody tr th {\n",
       "        vertical-align: top;\n",
       "    }\n",
       "\n",
       "    .dataframe thead th {\n",
       "        text-align: right;\n",
       "    }\n",
       "</style>\n",
       "<table border=\"1\" class=\"dataframe\">\n",
       "  <thead>\n",
       "    <tr style=\"text-align: right;\">\n",
       "      <th></th>\n",
       "      <th>0</th>\n",
       "      <th>1</th>\n",
       "    </tr>\n",
       "  </thead>\n",
       "  <tbody>\n",
       "    <tr>\n",
       "      <th>0</th>\n",
       "      <td>268</td>\n",
       "      <td>39</td>\n",
       "    </tr>\n",
       "    <tr>\n",
       "      <th>1</th>\n",
       "      <td>53</td>\n",
       "      <td>138</td>\n",
       "    </tr>\n",
       "  </tbody>\n",
       "</table>\n",
       "</div>"
      ],
      "text/plain": [
       "     0    1\n",
       "0  268   39\n",
       "1   53  138"
      ]
     },
     "execution_count": 69,
     "metadata": {},
     "output_type": "execute_result"
    }
   ],
   "source": [
    "pd.DataFrame(confusion_matrix(y_train, y_pred_3))"
   ]
  },
  {
   "cell_type": "code",
   "execution_count": 76,
   "id": "91c67eee",
   "metadata": {},
   "outputs": [
    {
     "data": {
      "text/html": [
       "<div>\n",
       "<style scoped>\n",
       "    .dataframe tbody tr th:only-of-type {\n",
       "        vertical-align: middle;\n",
       "    }\n",
       "\n",
       "    .dataframe tbody tr th {\n",
       "        vertical-align: top;\n",
       "    }\n",
       "\n",
       "    .dataframe thead th {\n",
       "        text-align: right;\n",
       "    }\n",
       "</style>\n",
       "<table border=\"1\" class=\"dataframe\">\n",
       "  <thead>\n",
       "    <tr style=\"text-align: right;\">\n",
       "      <th></th>\n",
       "      <th>precision</th>\n",
       "      <th>recall</th>\n",
       "      <th>f1-score</th>\n",
       "      <th>support</th>\n",
       "    </tr>\n",
       "  </thead>\n",
       "  <tbody>\n",
       "    <tr>\n",
       "      <th>0</th>\n",
       "      <td>0.834891</td>\n",
       "      <td>0.872964</td>\n",
       "      <td>0.853503</td>\n",
       "      <td>307.000000</td>\n",
       "    </tr>\n",
       "    <tr>\n",
       "      <th>1</th>\n",
       "      <td>0.779661</td>\n",
       "      <td>0.722513</td>\n",
       "      <td>0.750000</td>\n",
       "      <td>191.000000</td>\n",
       "    </tr>\n",
       "    <tr>\n",
       "      <th>accuracy</th>\n",
       "      <td>0.815261</td>\n",
       "      <td>0.815261</td>\n",
       "      <td>0.815261</td>\n",
       "      <td>0.815261</td>\n",
       "    </tr>\n",
       "    <tr>\n",
       "      <th>macro avg</th>\n",
       "      <td>0.807276</td>\n",
       "      <td>0.797739</td>\n",
       "      <td>0.801752</td>\n",
       "      <td>498.000000</td>\n",
       "    </tr>\n",
       "    <tr>\n",
       "      <th>weighted avg</th>\n",
       "      <td>0.813708</td>\n",
       "      <td>0.815261</td>\n",
       "      <td>0.813806</td>\n",
       "      <td>498.000000</td>\n",
       "    </tr>\n",
       "  </tbody>\n",
       "</table>\n",
       "</div>"
      ],
      "text/plain": [
       "              precision    recall  f1-score     support\n",
       "0              0.834891  0.872964  0.853503  307.000000\n",
       "1              0.779661  0.722513  0.750000  191.000000\n",
       "accuracy       0.815261  0.815261  0.815261    0.815261\n",
       "macro avg      0.807276  0.797739  0.801752  498.000000\n",
       "weighted avg   0.813708  0.815261  0.813806  498.000000"
      ]
     },
     "execution_count": 76,
     "metadata": {},
     "output_type": "execute_result"
    }
   ],
   "source": [
    "pd.DataFrame(classification_report(y_train, y_pred_3, output_dict=True)).T"
   ]
  },
  {
   "cell_type": "markdown",
   "id": "fb95c171",
   "metadata": {},
   "source": [
    "##### #4. Compute: Accuracy, true positive rate, false positive rate, true negative rate, false negative rate, precision, recall, f1-score, and support."
   ]
  },
  {
   "cell_type": "markdown",
   "id": "028b8e8d",
   "metadata": {},
   "source": [
    "When our positive scenario is that someone survived and our negative scenario is that they did not survive, we get the following numbers:\n",
    "- Accuracy 81.5%\n",
    "- True Positive rate: 138 /498 = 27.71%\n",
    "- False Positive rate: 39 / 498 = 7.83%\n",
    "- True Negative rate: 268 / 498 = 53.81%\n",
    "- False Negative rate: 53 / 498 = 10.64%\n",
    "- Precision: 77.97%\n",
    "- Recall: 72.25%\n",
    "- F1-score: 75.00%\n",
    "- Support: 191"
   ]
  },
  {
   "cell_type": "markdown",
   "id": "47bf5325",
   "metadata": {},
   "source": [
    "##### #5. Run through steps 2-4 using a different max_depth value."
   ]
  },
  {
   "cell_type": "code",
   "execution_count": 57,
   "id": "51d12e46",
   "metadata": {},
   "outputs": [
    {
     "data": {
      "text/plain": [
       "[Text(397.4938953488372, 356.73749999999995, 'sex_male <= 0.5\\ngini = 0.473\\nsamples = 498\\nvalue = [307, 191]\\nclass = 0'),\n",
       " Text(248.82906976744184, 309.1725, 'pclass <= 2.5\\ngini = 0.411\\nsamples = 187\\nvalue = [54, 133]\\nclass = 1'),\n",
       " Text(160.2627906976744, 261.60749999999996, 'age <= 43.5\\ngini = 0.116\\nsamples = 97\\nvalue = [6, 91]\\nclass = 1'),\n",
       " Text(101.21860465116279, 214.0425, 'age <= 27.5\\ngini = 0.072\\nsamples = 80\\nvalue = [3, 77]\\nclass = 1'),\n",
       " Text(84.34883720930232, 166.4775, 'age <= 24.5\\ngini = 0.161\\nsamples = 34\\nvalue = [3, 31]\\nclass = 1'),\n",
       " Text(50.609302325581396, 118.91250000000002, 'fare <= 13.396\\ngini = 0.064\\nsamples = 30\\nvalue = [1, 29]\\nclass = 1'),\n",
       " Text(33.73953488372093, 71.34749999999997, 'age <= 22.5\\ngini = 0.32\\nsamples = 5\\nvalue = [1, 4]\\nclass = 1'),\n",
       " Text(16.869767441860464, 23.782500000000027, 'gini = 0.0\\nsamples = 3\\nvalue = [0, 3]\\nclass = 1'),\n",
       " Text(50.609302325581396, 23.782500000000027, 'gini = 0.5\\nsamples = 2\\nvalue = [1, 1]\\nclass = 0'),\n",
       " Text(67.47906976744186, 71.34749999999997, 'gini = 0.0\\nsamples = 25\\nvalue = [0, 25]\\nclass = 1'),\n",
       " Text(118.08837209302325, 118.91250000000002, 'alone <= 0.5\\ngini = 0.5\\nsamples = 4\\nvalue = [2, 2]\\nclass = 0'),\n",
       " Text(101.21860465116279, 71.34749999999997, 'gini = 0.0\\nsamples = 2\\nvalue = [2, 0]\\nclass = 0'),\n",
       " Text(134.9581395348837, 71.34749999999997, 'gini = 0.0\\nsamples = 2\\nvalue = [0, 2]\\nclass = 1'),\n",
       " Text(118.08837209302325, 166.4775, 'gini = 0.0\\nsamples = 46\\nvalue = [0, 46]\\nclass = 1'),\n",
       " Text(219.30697674418604, 214.0425, 'fare <= 44.056\\ngini = 0.291\\nsamples = 17\\nvalue = [3, 14]\\nclass = 1'),\n",
       " Text(202.43720930232558, 166.4775, 'fare <= 28.217\\ngini = 0.42\\nsamples = 10\\nvalue = [3, 7]\\nclass = 1'),\n",
       " Text(185.5674418604651, 118.91250000000002, 'pclass <= 1.5\\ngini = 0.346\\nsamples = 9\\nvalue = [2, 7]\\nclass = 1'),\n",
       " Text(168.69767441860463, 71.34749999999997, 'gini = 0.0\\nsamples = 3\\nvalue = [0, 3]\\nclass = 1'),\n",
       " Text(202.43720930232558, 71.34749999999997, 'age <= 44.5\\ngini = 0.444\\nsamples = 6\\nvalue = [2, 4]\\nclass = 1'),\n",
       " Text(185.5674418604651, 23.782500000000027, 'gini = 0.0\\nsamples = 1\\nvalue = [1, 0]\\nclass = 0'),\n",
       " Text(219.30697674418604, 23.782500000000027, 'gini = 0.32\\nsamples = 5\\nvalue = [1, 4]\\nclass = 1'),\n",
       " Text(219.30697674418604, 118.91250000000002, 'gini = 0.0\\nsamples = 1\\nvalue = [1, 0]\\nclass = 0'),\n",
       " Text(236.1767441860465, 166.4775, 'gini = 0.0\\nsamples = 7\\nvalue = [0, 7]\\nclass = 1'),\n",
       " Text(337.39534883720927, 261.60749999999996, 'fare <= 24.808\\ngini = 0.498\\nsamples = 90\\nvalue = [48, 42]\\nclass = 0'),\n",
       " Text(320.5255813953488, 214.0425, 'age <= 36.0\\ngini = 0.493\\nsamples = 75\\nvalue = [33, 42]\\nclass = 1'),\n",
       " Text(303.65581395348835, 166.4775, 'embark_town_Southampton <= 0.5\\ngini = 0.483\\nsamples = 71\\nvalue = [29, 42]\\nclass = 1'),\n",
       " Text(253.04651162790697, 118.91250000000002, 'age <= 14.25\\ngini = 0.397\\nsamples = 33\\nvalue = [9, 24]\\nclass = 1'),\n",
       " Text(236.1767441860465, 71.34749999999997, 'gini = 0.0\\nsamples = 6\\nvalue = [0, 6]\\nclass = 1'),\n",
       " Text(269.9162790697674, 71.34749999999997, 'fare <= 8.083\\ngini = 0.444\\nsamples = 27\\nvalue = [9, 18]\\nclass = 1'),\n",
       " Text(253.04651162790697, 23.782500000000027, 'gini = 0.332\\nsamples = 19\\nvalue = [4, 15]\\nclass = 1'),\n",
       " Text(286.7860465116279, 23.782500000000027, 'gini = 0.469\\nsamples = 8\\nvalue = [5, 3]\\nclass = 0'),\n",
       " Text(354.26511627906973, 118.91250000000002, 'fare <= 20.8\\ngini = 0.499\\nsamples = 38\\nvalue = [20, 18]\\nclass = 0'),\n",
       " Text(337.39534883720927, 71.34749999999997, 'parch <= 0.5\\ngini = 0.5\\nsamples = 35\\nvalue = [17, 18]\\nclass = 1'),\n",
       " Text(320.5255813953488, 23.782500000000027, 'gini = 0.488\\nsamples = 26\\nvalue = [15, 11]\\nclass = 0'),\n",
       " Text(354.26511627906973, 23.782500000000027, 'gini = 0.346\\nsamples = 9\\nvalue = [2, 7]\\nclass = 1'),\n",
       " Text(371.1348837209302, 71.34749999999997, 'gini = 0.0\\nsamples = 3\\nvalue = [3, 0]\\nclass = 0'),\n",
       " Text(337.39534883720927, 166.4775, 'gini = 0.0\\nsamples = 4\\nvalue = [4, 0]\\nclass = 0'),\n",
       " Text(354.26511627906973, 214.0425, 'gini = 0.0\\nsamples = 15\\nvalue = [15, 0]\\nclass = 0'),\n",
       " Text(546.1587209302326, 309.1725, 'age <= 3.5\\ngini = 0.303\\nsamples = 311\\nvalue = [253, 58]\\nclass = 0'),\n",
       " Text(529.288953488372, 261.60749999999996, 'gini = 0.0\\nsamples = 5\\nvalue = [0, 5]\\nclass = 1'),\n",
       " Text(563.028488372093, 261.60749999999996, 'fare <= 26.144\\ngini = 0.286\\nsamples = 306\\nvalue = [253, 53]\\nclass = 0'),\n",
       " Text(451.2662790697674, 214.0425, 'age <= 13.5\\ngini = 0.21\\nsamples = 227\\nvalue = [200, 27]\\nclass = 0'),\n",
       " Text(404.87441860465117, 166.4775, 'alone <= 0.5\\ngini = 0.444\\nsamples = 3\\nvalue = [1, 2]\\nclass = 1'),\n",
       " Text(388.00465116279065, 118.91250000000002, 'gini = 0.0\\nsamples = 2\\nvalue = [0, 2]\\nclass = 1'),\n",
       " Text(421.74418604651163, 118.91250000000002, 'gini = 0.0\\nsamples = 1\\nvalue = [1, 0]\\nclass = 0'),\n",
       " Text(497.6581395348837, 166.4775, 'embark_town_Southampton <= 0.5\\ngini = 0.198\\nsamples = 224\\nvalue = [199, 25]\\nclass = 0'),\n",
       " Text(455.48372093023255, 118.91250000000002, 'age <= 30.595\\ngini = 0.34\\nsamples = 46\\nvalue = [36, 10]\\nclass = 0'),\n",
       " Text(438.6139534883721, 71.34749999999997, 'fare <= 7.746\\ngini = 0.401\\nsamples = 36\\nvalue = [26, 10]\\nclass = 0'),\n",
       " Text(421.74418604651163, 23.782500000000027, 'gini = 0.231\\nsamples = 15\\nvalue = [13, 2]\\nclass = 0'),\n",
       " Text(455.48372093023255, 23.782500000000027, 'gini = 0.472\\nsamples = 21\\nvalue = [13, 8]\\nclass = 0'),\n",
       " Text(472.353488372093, 71.34749999999997, 'gini = 0.0\\nsamples = 10\\nvalue = [10, 0]\\nclass = 0'),\n",
       " Text(539.8325581395349, 118.91250000000002, 'age <= 61.5\\ngini = 0.154\\nsamples = 178\\nvalue = [163, 15]\\nclass = 0'),\n",
       " Text(506.09302325581393, 71.34749999999997, 'fare <= 7.91\\ngini = 0.146\\nsamples = 176\\nvalue = [162, 14]\\nclass = 0'),\n",
       " Text(489.2232558139535, 23.782500000000027, 'gini = 0.058\\nsamples = 67\\nvalue = [65, 2]\\nclass = 0'),\n",
       " Text(522.9627906976743, 23.782500000000027, 'gini = 0.196\\nsamples = 109\\nvalue = [97, 12]\\nclass = 0'),\n",
       " Text(573.5720930232558, 71.34749999999997, 'age <= 66.0\\ngini = 0.5\\nsamples = 2\\nvalue = [1, 1]\\nclass = 0'),\n",
       " Text(556.7023255813954, 23.782500000000027, 'gini = 0.0\\nsamples = 1\\nvalue = [0, 1]\\nclass = 1'),\n",
       " Text(590.4418604651163, 23.782500000000027, 'gini = 0.0\\nsamples = 1\\nvalue = [1, 0]\\nclass = 0'),\n",
       " Text(674.7906976744185, 214.0425, 'age <= 53.0\\ngini = 0.442\\nsamples = 79\\nvalue = [53, 26]\\nclass = 0'),\n",
       " Text(657.9209302325581, 166.4775, 'fare <= 27.135\\ngini = 0.48\\nsamples = 65\\nvalue = [39, 26]\\nclass = 0'),\n",
       " Text(624.1813953488372, 118.91250000000002, 'age <= 32.595\\ngini = 0.219\\nsamples = 8\\nvalue = [1, 7]\\nclass = 1'),\n",
       " Text(607.3116279069767, 71.34749999999997, 'gini = 0.5\\nsamples = 2\\nvalue = [1, 1]\\nclass = 0'),\n",
       " Text(641.0511627906976, 71.34749999999997, 'gini = 0.0\\nsamples = 6\\nvalue = [0, 6]\\nclass = 1'),\n",
       " Text(691.660465116279, 118.91250000000002, 'sibsp <= 2.5\\ngini = 0.444\\nsamples = 57\\nvalue = [38, 19]\\nclass = 0'),\n",
       " Text(674.7906976744185, 71.34749999999997, 'fare <= 30.285\\ngini = 0.478\\nsamples = 48\\nvalue = [29, 19]\\nclass = 0'),\n",
       " Text(657.9209302325581, 23.782500000000027, 'gini = 0.0\\nsamples = 6\\nvalue = [6, 0]\\nclass = 0'),\n",
       " Text(691.660465116279, 23.782500000000027, 'gini = 0.495\\nsamples = 42\\nvalue = [23, 19]\\nclass = 0'),\n",
       " Text(708.5302325581395, 71.34749999999997, 'gini = 0.0\\nsamples = 9\\nvalue = [9, 0]\\nclass = 0'),\n",
       " Text(691.660465116279, 166.4775, 'gini = 0.0\\nsamples = 14\\nvalue = [14, 0]\\nclass = 0')]"
      ]
     },
     "execution_count": 57,
     "metadata": {},
     "output_type": "execute_result"
    },
    {
     "data": {
      "image/png": "[encoded data removed]",
      "text/plain": [
       "<Figure size 936x504 with 1 Axes>"
      ]
     },
     "metadata": {
      "needs_background": "light"
     },
     "output_type": "display_data"
    }
   ],
   "source": [
    "X_train = train.drop(columns=['survived'])\n",
    "y_train = train.survived\n",
    "\n",
    "X_validate = validate.drop(columns=['survived'])\n",
    "y_validate = validate.survived\n",
    "\n",
    "X_test = test.drop(columns=['survived'])\n",
    "y_test = test.survived\n",
    "\n",
    "clf_7_deep = DecisionTreeClassifier(max_depth=7, random_state=123)\n",
    "clf_7_deep = clf_7_deep.fit(X_train, y_train)\n",
    "\n",
    "plt.figure(figsize=(13, 7))\n",
    "plot_tree(clf_7_deep, feature_names=X_train.columns, class_names=clf_7_deep.classes_.astype(str), rounded=True)\n"
   ]
  },
  {
   "cell_type": "code",
   "execution_count": 71,
   "id": "5ab2f0e5",
   "metadata": {},
   "outputs": [
    {
     "name": "stdout",
     "output_type": "stream",
     "text": [
      "Accuracy of Decision Tree classifier on training set: 0.87\n"
     ]
    }
   ],
   "source": [
    "y_pred_7 = clf_7_deep.predict(X_train)\n",
    "print(f'Accuracy of Decision Tree classifier on training set: {clf_7_deep.score(X_train, y_train):.2f}')"
   ]
  },
  {
   "cell_type": "code",
   "execution_count": 72,
   "id": "900f1f90",
   "metadata": {},
   "outputs": [
    {
     "data": {
      "text/plain": [
       "array([[300,   7],\n",
       "       [ 59, 132]])"
      ]
     },
     "execution_count": 72,
     "metadata": {},
     "output_type": "execute_result"
    }
   ],
   "source": [
    "confusion_matrix(y_train, y_pred_7)"
   ]
  },
  {
   "cell_type": "code",
   "execution_count": 73,
   "id": "2d59d5e1",
   "metadata": {},
   "outputs": [
    {
     "data": {
      "text/plain": [
       "0    307\n",
       "1    191\n",
       "Name: survived, dtype: int64"
      ]
     },
     "execution_count": 73,
     "metadata": {},
     "output_type": "execute_result"
    }
   ],
   "source": [
    "y_train.value_counts()"
   ]
  },
  {
   "cell_type": "code",
   "execution_count": 74,
   "id": "4598923f",
   "metadata": {},
   "outputs": [
    {
     "data": {
      "text/html": [
       "<div>\n",
       "<style scoped>\n",
       "    .dataframe tbody tr th:only-of-type {\n",
       "        vertical-align: middle;\n",
       "    }\n",
       "\n",
       "    .dataframe tbody tr th {\n",
       "        vertical-align: top;\n",
       "    }\n",
       "\n",
       "    .dataframe thead th {\n",
       "        text-align: right;\n",
       "    }\n",
       "</style>\n",
       "<table border=\"1\" class=\"dataframe\">\n",
       "  <thead>\n",
       "    <tr style=\"text-align: right;\">\n",
       "      <th></th>\n",
       "      <th>0</th>\n",
       "      <th>1</th>\n",
       "    </tr>\n",
       "  </thead>\n",
       "  <tbody>\n",
       "    <tr>\n",
       "      <th>0</th>\n",
       "      <td>300</td>\n",
       "      <td>7</td>\n",
       "    </tr>\n",
       "    <tr>\n",
       "      <th>1</th>\n",
       "      <td>59</td>\n",
       "      <td>132</td>\n",
       "    </tr>\n",
       "  </tbody>\n",
       "</table>\n",
       "</div>"
      ],
      "text/plain": [
       "     0    1\n",
       "0  300    7\n",
       "1   59  132"
      ]
     },
     "execution_count": 74,
     "metadata": {},
     "output_type": "execute_result"
    }
   ],
   "source": [
    "pd.DataFrame(confusion_matrix(y_train, y_pred_7))"
   ]
  },
  {
   "cell_type": "code",
   "execution_count": 75,
   "id": "39a10ddc",
   "metadata": {},
   "outputs": [
    {
     "data": {
      "text/html": [
       "<div>\n",
       "<style scoped>\n",
       "    .dataframe tbody tr th:only-of-type {\n",
       "        vertical-align: middle;\n",
       "    }\n",
       "\n",
       "    .dataframe tbody tr th {\n",
       "        vertical-align: top;\n",
       "    }\n",
       "\n",
       "    .dataframe thead th {\n",
       "        text-align: right;\n",
       "    }\n",
       "</style>\n",
       "<table border=\"1\" class=\"dataframe\">\n",
       "  <thead>\n",
       "    <tr style=\"text-align: right;\">\n",
       "      <th></th>\n",
       "      <th>precision</th>\n",
       "      <th>recall</th>\n",
       "      <th>f1-score</th>\n",
       "      <th>support</th>\n",
       "    </tr>\n",
       "  </thead>\n",
       "  <tbody>\n",
       "    <tr>\n",
       "      <th>0</th>\n",
       "      <td>0.835655</td>\n",
       "      <td>0.977199</td>\n",
       "      <td>0.900901</td>\n",
       "      <td>307.00000</td>\n",
       "    </tr>\n",
       "    <tr>\n",
       "      <th>1</th>\n",
       "      <td>0.949640</td>\n",
       "      <td>0.691099</td>\n",
       "      <td>0.800000</td>\n",
       "      <td>191.00000</td>\n",
       "    </tr>\n",
       "    <tr>\n",
       "      <th>accuracy</th>\n",
       "      <td>0.867470</td>\n",
       "      <td>0.867470</td>\n",
       "      <td>0.867470</td>\n",
       "      <td>0.86747</td>\n",
       "    </tr>\n",
       "    <tr>\n",
       "      <th>macro avg</th>\n",
       "      <td>0.892647</td>\n",
       "      <td>0.834149</td>\n",
       "      <td>0.850450</td>\n",
       "      <td>498.00000</td>\n",
       "    </tr>\n",
       "    <tr>\n",
       "      <th>weighted avg</th>\n",
       "      <td>0.879372</td>\n",
       "      <td>0.867470</td>\n",
       "      <td>0.862202</td>\n",
       "      <td>498.00000</td>\n",
       "    </tr>\n",
       "  </tbody>\n",
       "</table>\n",
       "</div>"
      ],
      "text/plain": [
       "              precision    recall  f1-score    support\n",
       "0              0.835655  0.977199  0.900901  307.00000\n",
       "1              0.949640  0.691099  0.800000  191.00000\n",
       "accuracy       0.867470  0.867470  0.867470    0.86747\n",
       "macro avg      0.892647  0.834149  0.850450  498.00000\n",
       "weighted avg   0.879372  0.867470  0.862202  498.00000"
      ]
     },
     "execution_count": 75,
     "metadata": {},
     "output_type": "execute_result"
    }
   ],
   "source": [
    "pd.DataFrame(classification_report(y_train, y_pred_7, output_dict=True)).T"
   ]
  },
  {
   "cell_type": "markdown",
   "id": "3d9d8454",
   "metadata": {},
   "source": [
    "### Under the new model with depth set to 7 instead of 3, when our positive scenario is that someone survived and our negative scenario is that they did not survive, we get the following numbers:\n",
    "- Accuracy 86.7%\n",
    "- True Positive rate: 132 /498 = 26.5%\n",
    "- False Positive rate: 7 / 498 = 1.4% \n",
    "- True Negative rate: 300 / 498 = 60.24%\n",
    "- False Negative rate: 59 / 498 = 5.82%\n",
    "- Precision: 94.96%\n",
    "- Recall: 69.1%\n",
    "- F1-score: 80.0%\n",
    "- Support: 191"
   ]
  },
  {
   "cell_type": "markdown",
   "id": "baca8a88",
   "metadata": {},
   "source": [
    "##### #6. Which model performs better on your in-sample data?\n",
    "\n",
    "The second model which has a max_depth of 7 performs better on the train data than the first sample which has a max_depth of only 3."
   ]
  },
  {
   "cell_type": "markdown",
   "id": "737d8f9d",
   "metadata": {},
   "source": [
    "##### #7. Which model performs best on your out-of-sample data, the validate set?\n",
    "\n"
   ]
  },
  {
   "cell_type": "code",
   "execution_count": 77,
   "id": "505bba9d",
   "metadata": {},
   "outputs": [
    {
     "name": "stdout",
     "output_type": "stream",
     "text": [
      "Accuracy of 3 Deep Decision Tree classifier on training set: 0.83\n",
      "Accuracy of 7 Deep Decision Tree classifier on training set: 0.81\n"
     ]
    }
   ],
   "source": [
    "print(f'Accuracy of 3 Deep Decision Tree classifier on training set: {clf_3_deep.score(X_validate, y_validate):.2f}')\n",
    "\n",
    "print(f'Accuracy of 7 Deep Decision Tree classifier on training set: {clf_7_deep.score(X_validate, y_validate):.2f}')"
   ]
  },
  {
   "cell_type": "markdown",
   "id": "736cac1e",
   "metadata": {},
   "source": [
    "The accuracy of the less deep decision tree model with only 3 questions is more accurate on the validate set."
   ]
  }
 ],
 "metadata": {
  "kernelspec": {
   "display_name": "Python 3 (ipykernel)",
   "language": "python",
   "name": "python3"
  },
  "language_info": {
   "codemirror_mode": {
    "name": "ipython",
    "version": 3
   },
   "file_extension": ".py",
   "mimetype": "text/x-python",
   "name": "python",
   "nbconvert_exporter": "python",
   "pygments_lexer": "ipython3",
   "version": "3.9.7"
  }
 },
 "nbformat": 4,
 "nbformat_minor": 5
}
