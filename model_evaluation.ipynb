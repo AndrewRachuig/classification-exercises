{
 "cells": [
  {
   "cell_type": "markdown",
   "id": "a1b213d9",
   "metadata": {},
   "source": [
    "#### Question 2: Given the following confusion matrix, evaluate (by hand) the model's performance."
   ]
  },
  {
   "cell_type": "markdown",
   "id": "2846b2ea",
   "metadata": {},
   "source": [
    "|               | pred dog   | pred cat   |\n",
    "|:------------  |-----------:|-----------:|\n",
    "| actual dog    |         46 |         7  |\n",
    "| actual cat    |         13 |         34 |\n"
   ]
  },
  {
   "cell_type": "markdown",
   "id": "dfc9c81f",
   "metadata": {},
   "source": [
    "- In the context of this problem, what is a false positive?\n",
    "- In the context of this problem, what is a false negative?\n",
    "- How would you describe this model?"
   ]
  },
  {
   "cell_type": "markdown",
   "id": "f4ed5d77",
   "metadata": {},
   "source": [
    "##### Answer:\n",
    "\n",
    "- Positive: Dog\n",
    "- Negative: Cat\n",
    "\n",
    "A False positive is predicting a dog when it is actually not a dog (ie. cat).\n",
    "A False negative is predicting not a dog (ie. cat) when it's actually a dog.\n",
    "\n",
    "I would describe this model as having a higher FP rate (22%) than FN rate (17%).  This model has lower precision than sensitivity."
   ]
  },
  {
   "cell_type": "markdown",
   "id": "38ea9d12",
   "metadata": {},
   "source": [
    "### Question 3: \n",
    "\n",
    "You are working as a datascientist working for Codeup Cody Creator (C3 for short), a rubber-duck manufacturing plant.\n",
    "\n",
    "Unfortunately, some of the rubber ducks that are produced will have defects. Your team has built several models that try to predict those defects, and the data from their predictions can be found here.\n",
    "\n",
    "Use the predictions dataset and pandas to help answer the following questions:"
   ]
  },
  {
   "cell_type": "markdown",
   "id": "7ead7bff",
   "metadata": {},
   "source": [
    "An internal team wants to investigate the cause of the manufacturing defects. They tell you that they want to identify as many of the ducks that have a defect as possible. Which evaluation metric would be appropriate here?"
   ]
  },
  {
   "cell_type": "markdown",
   "id": "2084ccb0",
   "metadata": {},
   "source": [
    "##### Answer: \n",
    "- In this scenario a Positive result would be one in which a defect is detected.  A Negative result would be one in which a defect is not detected.\n",
    "- A False Positive would be detecting a defect when there is none.\n",
    "- A False Negative would be not detecting a defect when there is one.\n",
    "- A True Positive would be detecting a defect when there is actually one.\n",
    "- A True Negative would be not detecting a defect when there is not actually one.\n",
    "\n",
    "##### Because of this and the team's desire to identify as many of the defect ducks as possible, the most appropriate approach would be to have more False Positives than False Negatives.  That is to say using an evaluation of higher recall would be best to use in this case."
   ]
  },
  {
   "cell_type": "code",
   "execution_count": 2,
   "id": "fae6c11a",
   "metadata": {},
   "outputs": [
    {
     "data": {
      "text/html": [
       "<div>\n",
       "<style scoped>\n",
       "    .dataframe tbody tr th:only-of-type {\n",
       "        vertical-align: middle;\n",
       "    }\n",
       "\n",
       "    .dataframe tbody tr th {\n",
       "        vertical-align: top;\n",
       "    }\n",
       "\n",
       "    .dataframe thead th {\n",
       "        text-align: right;\n",
       "    }\n",
       "</style>\n",
       "<table border=\"1\" class=\"dataframe\">\n",
       "  <thead>\n",
       "    <tr style=\"text-align: right;\">\n",
       "      <th></th>\n",
       "      <th>actual</th>\n",
       "      <th>model1</th>\n",
       "      <th>model2</th>\n",
       "      <th>model3</th>\n",
       "    </tr>\n",
       "  </thead>\n",
       "  <tbody>\n",
       "    <tr>\n",
       "      <th>0</th>\n",
       "      <td>No Defect</td>\n",
       "      <td>No Defect</td>\n",
       "      <td>Defect</td>\n",
       "      <td>No Defect</td>\n",
       "    </tr>\n",
       "    <tr>\n",
       "      <th>1</th>\n",
       "      <td>No Defect</td>\n",
       "      <td>No Defect</td>\n",
       "      <td>Defect</td>\n",
       "      <td>Defect</td>\n",
       "    </tr>\n",
       "    <tr>\n",
       "      <th>2</th>\n",
       "      <td>No Defect</td>\n",
       "      <td>No Defect</td>\n",
       "      <td>Defect</td>\n",
       "      <td>No Defect</td>\n",
       "    </tr>\n",
       "    <tr>\n",
       "      <th>3</th>\n",
       "      <td>No Defect</td>\n",
       "      <td>Defect</td>\n",
       "      <td>Defect</td>\n",
       "      <td>Defect</td>\n",
       "    </tr>\n",
       "    <tr>\n",
       "      <th>4</th>\n",
       "      <td>No Defect</td>\n",
       "      <td>No Defect</td>\n",
       "      <td>Defect</td>\n",
       "      <td>No Defect</td>\n",
       "    </tr>\n",
       "  </tbody>\n",
       "</table>\n",
       "</div>"
      ],
      "text/plain": [
       "      actual     model1  model2     model3\n",
       "0  No Defect  No Defect  Defect  No Defect\n",
       "1  No Defect  No Defect  Defect     Defect\n",
       "2  No Defect  No Defect  Defect  No Defect\n",
       "3  No Defect     Defect  Defect     Defect\n",
       "4  No Defect  No Defect  Defect  No Defect"
      ]
     },
     "execution_count": 2,
     "metadata": {},
     "output_type": "execute_result"
    }
   ],
   "source": [
    "import pandas as pd\n",
    "import numpy as np\n",
    "\n",
    "c3df = pd.read_csv(\"c3.csv\")\n",
    "c3df.head()"
   ]
  },
  {
   "cell_type": "code",
   "execution_count": 56,
   "id": "0e9274c0",
   "metadata": {},
   "outputs": [
    {
     "name": "stdout",
     "output_type": "stream",
     "text": [
      "  model1 recall: 50.00%\n",
      "  model2 recall: 56.25%\n",
      "  model3 recall: 81.25%\n",
      "baseline recall: 0.00%\n"
     ]
    }
   ],
   "source": [
    "subset = c3df[c3df.actual == 'Defect']\n",
    "c3df['baseline_prediction'] = 'No Defect'\n",
    "\n",
    "\n",
    "model1_recall = (subset.model1 == subset.actual).mean()\n",
    "model2_recall = (subset.model2 == subset.actual).mean()\n",
    "model3_recall = (subset.model3 == subset.actual).mean()\n",
    "baseline_recall = (subset.baseline_prediction == subset.actual).mean()\n",
    "\n",
    "\n",
    "print(f'  model1 recall: {model1_recall:.2%}')\n",
    "print(f'  model2 recall: {model2_recall:.2%}')\n",
    "print(f'  model3 recall: {model3_recall:.2%}')\n",
    "print(f'baseline recall: {baseline_recall:.2%}')"
   ]
  },
  {
   "cell_type": "markdown",
   "id": "5601d5ee",
   "metadata": {},
   "source": [
    "Which model would be the best fit for this use case?\n",
    "\n",
    "##### Based on the code run above it seems like the best model favoring recall would be model 3."
   ]
  },
  {
   "cell_type": "markdown",
   "id": "31f2601d",
   "metadata": {},
   "source": [
    "##### Part 2.\n",
    "Recently several stories in the local news have come out highlighting customers who received a rubber duck with a defect, and portraying C3 in a bad light. The PR team has decided to launch a program that gives customers with a defective duck a vacation to Hawaii. They need you to predict which ducks will have defects, but tell you the really don't want to accidentally give out a vacation package when the duck really doesn't have a defect. Which evaluation metric would be appropriate here? Which model would be the best fit for this use case?"
   ]
  },
  {
   "cell_type": "markdown",
   "id": "64c0a076",
   "metadata": {},
   "source": [
    "##### Answer: A simple reading of the above scenario would leave me to believe that False Positives are not very costly for the company but False Negatives would be incredibly costly since they would give a customer a defect duck.  Like above they should use recall as the evaluation metric and therefore use model 3 to catch as many defects as possible."
   ]
  },
  {
   "cell_type": "markdown",
   "id": "a60e5fdd",
   "metadata": {},
   "source": [
    "### Question 4: \n",
    "\n",
    "You are working as a data scientist for Gives You Paws ™, a subscription based service that shows you cute pictures of dogs or cats (or both for an additional fee).\n",
    "\n",
    "At Gives You Paws, anyone can upload pictures of their cats or dogs. The photos are then put through a two step process. First an automated algorithm tags pictures as either a cat or a dog (Phase I). Next, the photos that have been initially identified are put through another round of review, possibly with some human oversight, before being presented to the users (Phase II).\n",
    "\n",
    "Several models have already been developed with the data, and you can find their results here.\n",
    "\n",
    "Given this dataset, use pandas to create a baseline model (i.e. a model that just predicts the most common class) and answer the following questions:"
   ]
  },
  {
   "cell_type": "code",
   "execution_count": 19,
   "id": "43ae6306",
   "metadata": {},
   "outputs": [
    {
     "data": {
      "text/html": [
       "<div>\n",
       "<style scoped>\n",
       "    .dataframe tbody tr th:only-of-type {\n",
       "        vertical-align: middle;\n",
       "    }\n",
       "\n",
       "    .dataframe tbody tr th {\n",
       "        vertical-align: top;\n",
       "    }\n",
       "\n",
       "    .dataframe thead th {\n",
       "        text-align: right;\n",
       "    }\n",
       "</style>\n",
       "<table border=\"1\" class=\"dataframe\">\n",
       "  <thead>\n",
       "    <tr style=\"text-align: right;\">\n",
       "      <th></th>\n",
       "      <th>actual</th>\n",
       "      <th>model1</th>\n",
       "      <th>model2</th>\n",
       "      <th>model3</th>\n",
       "      <th>model4</th>\n",
       "    </tr>\n",
       "  </thead>\n",
       "  <tbody>\n",
       "    <tr>\n",
       "      <th>0</th>\n",
       "      <td>cat</td>\n",
       "      <td>cat</td>\n",
       "      <td>dog</td>\n",
       "      <td>cat</td>\n",
       "      <td>dog</td>\n",
       "    </tr>\n",
       "    <tr>\n",
       "      <th>1</th>\n",
       "      <td>dog</td>\n",
       "      <td>dog</td>\n",
       "      <td>cat</td>\n",
       "      <td>cat</td>\n",
       "      <td>dog</td>\n",
       "    </tr>\n",
       "    <tr>\n",
       "      <th>2</th>\n",
       "      <td>dog</td>\n",
       "      <td>cat</td>\n",
       "      <td>cat</td>\n",
       "      <td>cat</td>\n",
       "      <td>dog</td>\n",
       "    </tr>\n",
       "    <tr>\n",
       "      <th>3</th>\n",
       "      <td>dog</td>\n",
       "      <td>dog</td>\n",
       "      <td>dog</td>\n",
       "      <td>cat</td>\n",
       "      <td>dog</td>\n",
       "    </tr>\n",
       "    <tr>\n",
       "      <th>4</th>\n",
       "      <td>cat</td>\n",
       "      <td>cat</td>\n",
       "      <td>cat</td>\n",
       "      <td>dog</td>\n",
       "      <td>dog</td>\n",
       "    </tr>\n",
       "  </tbody>\n",
       "</table>\n",
       "</div>"
      ],
      "text/plain": [
       "  actual model1 model2 model3 model4\n",
       "0    cat    cat    dog    cat    dog\n",
       "1    dog    dog    cat    cat    dog\n",
       "2    dog    cat    cat    cat    dog\n",
       "3    dog    dog    dog    cat    dog\n",
       "4    cat    cat    cat    dog    dog"
      ]
     },
     "execution_count": 19,
     "metadata": {},
     "output_type": "execute_result"
    }
   ],
   "source": [
    "pawsdf = pd.read_csv(\"gives_you_paws.csv\")\n",
    "pawsdf.head()"
   ]
  },
  {
   "cell_type": "code",
   "execution_count": 26,
   "id": "df58f570",
   "metadata": {},
   "outputs": [
    {
     "data": {
      "text/plain": [
       "dog    3254\n",
       "cat    1746\n",
       "Name: actual, dtype: int64"
      ]
     },
     "execution_count": 26,
     "metadata": {},
     "output_type": "execute_result"
    }
   ],
   "source": [
    "pawsdf.actual.value_counts()"
   ]
  },
  {
   "cell_type": "code",
   "execution_count": 27,
   "id": "9847f703",
   "metadata": {},
   "outputs": [],
   "source": [
    "pawsdf['baseline_prediction'] = 'dog'"
   ]
  },
  {
   "cell_type": "markdown",
   "id": "aead99bd",
   "metadata": {},
   "source": [
    "a. In terms of accuracy, how do the various models compare to the baseline model? Are any of the models better than the baseline?\n"
   ]
  },
  {
   "cell_type": "code",
   "execution_count": 30,
   "id": "3af76062",
   "metadata": {},
   "outputs": [
    {
     "name": "stdout",
     "output_type": "stream",
     "text": [
      "  model1 accuracy: 80.74%\n",
      "  model2 accuracy: 63.04%\n",
      "  model3 accuracy: 50.96%\n",
      "  model4 accuracy: 74.26%\n",
      "baseline accuracy: 65.08%\n"
     ]
    }
   ],
   "source": [
    "model1_accuracy = (pawsdf.model1 == pawsdf.actual).mean()\n",
    "model2_accuracy = (pawsdf.model2 == pawsdf.actual).mean()\n",
    "model3_accuracy = (pawsdf.model3 == pawsdf.actual).mean()\n",
    "model4_accuracy = (pawsdf.model4 == pawsdf.actual).mean()\n",
    "baseline_accuracy = (pawsdf.baseline_prediction == pawsdf.actual).mean()\n",
    "\n",
    "print(f'  model1 accuracy: {model1_accuracy:.2%}')\n",
    "print(f'  model2 accuracy: {model2_accuracy:.2%}')\n",
    "print(f'  model3 accuracy: {model3_accuracy:.2%}')\n",
    "print(f'  model4 accuracy: {model4_accuracy:.2%}')\n",
    "print(f'baseline accuracy: {baseline_accuracy:.2%}')"
   ]
  },
  {
   "cell_type": "markdown",
   "id": "bb8dd7c0",
   "metadata": {},
   "source": [
    "##### Answer: Model 3 is considerably worse than the baseline prediction model, model 2 is almost equivalent but slightly worse than the baseline model, model 4 performs better than the baseline, and model 1 performs the best of all models."
   ]
  },
  {
   "cell_type": "markdown",
   "id": "dc936dfe",
   "metadata": {},
   "source": [
    "b. Suppose you are working on a team that solely deals with dog pictures. Which of these models would you recomend for Phase I? For Phase II?\n"
   ]
  },
  {
   "cell_type": "markdown",
   "id": "c56d23fe",
   "metadata": {},
   "source": [
    "##### Answer Phase I: \n",
    "Working on a team that focuses only on dogs, for Phase I my goal would be to find as many dog pictures as possible even if it means having some False Positives. Thus I would need to minimize False Negatives and I should test the models for recall."
   ]
  },
  {
   "cell_type": "code",
   "execution_count": 39,
   "id": "9d6937c1",
   "metadata": {},
   "outputs": [
    {
     "name": "stdout",
     "output_type": "stream",
     "text": [
      "  model1 recall: 80.33%\n",
      "  model2 recall: 49.08%\n",
      "  model3 recall: 50.86%\n",
      "  model4 recall: 95.57%\n",
      "baseline recall: 100.00%\n"
     ]
    }
   ],
   "source": [
    "subset = pawsdf[pawsdf.actual == 'dog']\n",
    "pawsdf['baseline_prediction'] = 'dog'\n",
    "\n",
    "model1_recall = (subset.model1 == subset.actual).mean()\n",
    "model2_recall = (subset.model2 == subset.actual).mean()\n",
    "model3_recall = (subset.model3 == subset.actual).mean()\n",
    "model4_recall = (subset.model4 == subset.actual).mean()\n",
    "baseline_recall = (subset.baseline_prediction == subset.actual).mean()\n",
    "\n",
    "\n",
    "print(f'  model1 recall: {model1_recall:.2%}')\n",
    "print(f'  model2 recall: {model2_recall:.2%}')\n",
    "print(f'  model3 recall: {model3_recall:.2%}')\n",
    "print(f'  model4 recall: {model4_recall:.2%}')\n",
    "print(f'baseline recall: {baseline_recall:.2%}')"
   ]
  },
  {
   "cell_type": "code",
   "execution_count": 60,
   "id": "92a3b4b4",
   "metadata": {},
   "outputs": [
    {
     "data": {
      "text/html": [
       "<div>\n",
       "<style scoped>\n",
       "    .dataframe tbody tr th:only-of-type {\n",
       "        vertical-align: middle;\n",
       "    }\n",
       "\n",
       "    .dataframe tbody tr th {\n",
       "        vertical-align: top;\n",
       "    }\n",
       "\n",
       "    .dataframe thead th {\n",
       "        text-align: right;\n",
       "    }\n",
       "</style>\n",
       "<table border=\"1\" class=\"dataframe\">\n",
       "  <thead>\n",
       "    <tr style=\"text-align: right;\">\n",
       "      <th>actual</th>\n",
       "      <th>cat</th>\n",
       "      <th>dog</th>\n",
       "    </tr>\n",
       "    <tr>\n",
       "      <th>model4</th>\n",
       "      <th></th>\n",
       "      <th></th>\n",
       "    </tr>\n",
       "  </thead>\n",
       "  <tbody>\n",
       "    <tr>\n",
       "      <th>cat</th>\n",
       "      <td>603</td>\n",
       "      <td>144</td>\n",
       "    </tr>\n",
       "    <tr>\n",
       "      <th>dog</th>\n",
       "      <td>1143</td>\n",
       "      <td>3110</td>\n",
       "    </tr>\n",
       "  </tbody>\n",
       "</table>\n",
       "</div>"
      ],
      "text/plain": [
       "actual   cat   dog\n",
       "model4            \n",
       "cat      603   144\n",
       "dog     1143  3110"
      ]
     },
     "execution_count": 60,
     "metadata": {},
     "output_type": "execute_result"
    }
   ],
   "source": [
    "pd.crosstab(pawsdf.model4, pawsdf.actual)"
   ]
  },
  {
   "cell_type": "markdown",
   "id": "0f9c3c9d",
   "metadata": {},
   "source": [
    "After testing for recall I see that outside the baseline model of predicting ALL pictures are of dogs, Model 4 vastly exceeds all other models and I should use it for Phase I testing."
   ]
  },
  {
   "cell_type": "markdown",
   "id": "038f18d3",
   "metadata": {},
   "source": [
    "##### Answer Phase II:\n",
    "For Phase II I would need to prioritize eliminating False Negatives since I want to be sure about my positive predictions.  Thus I would need to focus on an evaluation metric of precision where dogs were accurately identified."
   ]
  },
  {
   "cell_type": "code",
   "execution_count": 32,
   "id": "06a0815d",
   "metadata": {},
   "outputs": [
    {
     "name": "stdout",
     "output_type": "stream",
     "text": [
      "model1 precision: 89.00%\n",
      "model2 precision: 89.32%\n",
      "model3 precision: 65.99%\n",
      "model4 precision: 73.12%\n",
      "baseline precision: 65.08%\n"
     ]
    }
   ],
   "source": [
    "subset = pawsdf[pawsdf.model1 == 'dog']\n",
    "model1_precision = (subset.model1 == subset.actual).mean()\n",
    "\n",
    "subset = pawsdf[pawsdf.model2 == 'dog']\n",
    "model2_precision = (subset.model2 == subset.actual).mean()\n",
    "\n",
    "subset = pawsdf[pawsdf.model3 == 'dog']\n",
    "model3_precision = (subset.model3 == subset.actual).mean()\n",
    "\n",
    "subset = pawsdf[pawsdf.model4 == 'dog']\n",
    "model4_precision = (subset.model4 == subset.actual).mean()\n",
    "\n",
    "subset = pawsdf[pawsdf.baseline_prediction == 'dog']\n",
    "baseline_precision = (subset.baseline_prediction == subset.actual).mean()\n",
    "\n",
    "print(f'model1 precision: {model1_precision:.2%}')\n",
    "print(f'model2 precision: {model2_precision:.2%}')\n",
    "print(f'model3 precision: {model3_precision:.2%}')\n",
    "print(f'model4 precision: {model4_precision:.2%}')\n",
    "print(f'baseline precision: {baseline_precision:.2%}')"
   ]
  },
  {
   "cell_type": "markdown",
   "id": "128a700e",
   "metadata": {},
   "source": [
    "After testing for precision I see that for precision when identifying pictures of dogs, Model 2 is slightly better than Model 1.  Either of these would probabaly be acceptable."
   ]
  },
  {
   "cell_type": "code",
   "execution_count": 61,
   "id": "9ac807be",
   "metadata": {},
   "outputs": [
    {
     "data": {
      "text/html": [
       "<div>\n",
       "<style scoped>\n",
       "    .dataframe tbody tr th:only-of-type {\n",
       "        vertical-align: middle;\n",
       "    }\n",
       "\n",
       "    .dataframe tbody tr th {\n",
       "        vertical-align: top;\n",
       "    }\n",
       "\n",
       "    .dataframe thead th {\n",
       "        text-align: right;\n",
       "    }\n",
       "</style>\n",
       "<table border=\"1\" class=\"dataframe\">\n",
       "  <thead>\n",
       "    <tr style=\"text-align: right;\">\n",
       "      <th>actual</th>\n",
       "      <th>cat</th>\n",
       "      <th>dog</th>\n",
       "    </tr>\n",
       "    <tr>\n",
       "      <th>model2</th>\n",
       "      <th></th>\n",
       "      <th></th>\n",
       "    </tr>\n",
       "  </thead>\n",
       "  <tbody>\n",
       "    <tr>\n",
       "      <th>cat</th>\n",
       "      <td>1555</td>\n",
       "      <td>1657</td>\n",
       "    </tr>\n",
       "    <tr>\n",
       "      <th>dog</th>\n",
       "      <td>191</td>\n",
       "      <td>1597</td>\n",
       "    </tr>\n",
       "  </tbody>\n",
       "</table>\n",
       "</div>"
      ],
      "text/plain": [
       "actual   cat   dog\n",
       "model2            \n",
       "cat     1555  1657\n",
       "dog      191  1597"
      ]
     },
     "execution_count": 61,
     "metadata": {},
     "output_type": "execute_result"
    }
   ],
   "source": [
    "pd.crosstab(pawsdf.model2, pawsdf.actual)"
   ]
  },
  {
   "cell_type": "markdown",
   "id": "0cbb576a",
   "metadata": {},
   "source": [
    "c. Suppose you are working on a team that solely deals with cat pictures. Which of these models would you recomend for Phase I? For Phase II?"
   ]
  },
  {
   "cell_type": "markdown",
   "id": "7c021ce6",
   "metadata": {},
   "source": [
    "##### Answer Phase I: \n",
    "Working on a team that focuses only on cats, for Phase I my goal would be to find as many cat pictures as possible even if it means having some False Positives. Thus I would need to minimize False Negatives and I should test the models for recall."
   ]
  },
  {
   "cell_type": "code",
   "execution_count": 57,
   "id": "5e01b3f8",
   "metadata": {},
   "outputs": [
    {
     "name": "stdout",
     "output_type": "stream",
     "text": [
      "  model1 recall: 81.50%\n",
      "  model2 recall: 89.06%\n",
      "  model3 recall: 51.15%\n",
      "  model4 recall: 51.15%\n",
      "baseline recall: 0.00%\n"
     ]
    }
   ],
   "source": [
    "subset = pawsdf[pawsdf.actual == 'cat']\n",
    "pawsdf['baseline_prediction'] = pawsdf.actual.value_counts().idxmax()\n",
    "\n",
    "model1_recall = (subset.model1 == subset.actual).mean()\n",
    "model2_recall = (subset.model2 == subset.actual).mean()\n",
    "model3_recall = (subset.model3 == subset.actual).mean()\n",
    "model4_recall = (subset.model3 == subset.actual).mean()\n",
    "baseline_recall = (subset.baseline_prediction == subset.actual).mean()\n",
    "\n",
    "\n",
    "print(f'  model1 recall: {model1_recall:.2%}')\n",
    "print(f'  model2 recall: {model2_recall:.2%}')\n",
    "print(f'  model3 recall: {model3_recall:.2%}')\n",
    "print(f'  model4 recall: {model4_recall:.2%}')\n",
    "print(f'baseline recall: {baseline_recall:.2%}')"
   ]
  },
  {
   "cell_type": "markdown",
   "id": "43825fc9",
   "metadata": {},
   "source": [
    "After testing for recall I see that outside the baseline model of predicting ALL pictures are of cats, Model 2 is the best performing model I could use for Phase I when trying to identify as many cats as possible."
   ]
  },
  {
   "cell_type": "markdown",
   "id": "57f561b0",
   "metadata": {},
   "source": [
    "##### Answer Phase II:\n",
    "For Phase II I would need to prioritize eliminating False Negatives since I want to be sure about my positive predictions.  Thus I would need to focus on an evaluation metric of precision where cats were accurately identified."
   ]
  },
  {
   "cell_type": "code",
   "execution_count": 36,
   "id": "00f4c633",
   "metadata": {},
   "outputs": [
    {
     "name": "stdout",
     "output_type": "stream",
     "text": [
      "model1 precision: 68.98%\n",
      "model2 precision: 48.41%\n",
      "model3 precision: 35.83%\n",
      "model4 precision: 80.72%\n",
      "baseline precision: 34.92%\n"
     ]
    }
   ],
   "source": [
    "subset = pawsdf[pawsdf.model1 == 'cat']\n",
    "model1_precision = (subset.model1 == subset.actual).mean()\n",
    "\n",
    "subset = pawsdf[pawsdf.model2 == 'cat']\n",
    "model2_precision = (subset.model2 == subset.actual).mean()\n",
    "\n",
    "subset = pawsdf[pawsdf.model3 == 'cat']\n",
    "model3_precision = (subset.model3 == subset.actual).mean()\n",
    "\n",
    "subset = pawsdf[pawsdf.model4 == 'cat']\n",
    "model4_precision = (subset.model4 == subset.actual).mean()\n",
    "\n",
    "subset = pawsdf[pawsdf.baseline_prediction == 'cat']\n",
    "baseline_precision = (subset.baseline_prediction == subset.actual).mean()\n",
    "\n",
    "print(f'model1 precision: {model1_precision:.2%}')\n",
    "print(f'model2 precision: {model2_precision:.2%}')\n",
    "print(f'model3 precision: {model3_precision:.2%}')\n",
    "print(f'model4 precision: {model4_precision:.2%}')\n",
    "print(f'baseline precision: {baseline_precision:.2%}')"
   ]
  },
  {
   "cell_type": "markdown",
   "id": "4dadfaa1",
   "metadata": {},
   "source": [
    "After testing for precision I see that for precision when identifying pictures of cats, Model 4 is significantly better than all other models."
   ]
  },
  {
   "cell_type": "code",
   "execution_count": 63,
   "id": "6bfca0c3",
   "metadata": {},
   "outputs": [
    {
     "data": {
      "text/html": [
       "<div>\n",
       "<style scoped>\n",
       "    .dataframe tbody tr th:only-of-type {\n",
       "        vertical-align: middle;\n",
       "    }\n",
       "\n",
       "    .dataframe tbody tr th {\n",
       "        vertical-align: top;\n",
       "    }\n",
       "\n",
       "    .dataframe thead th {\n",
       "        text-align: right;\n",
       "    }\n",
       "</style>\n",
       "<table border=\"1\" class=\"dataframe\">\n",
       "  <thead>\n",
       "    <tr style=\"text-align: right;\">\n",
       "      <th></th>\n",
       "      <th>precision</th>\n",
       "      <th>recall</th>\n",
       "      <th>f1-score</th>\n",
       "      <th>support</th>\n",
       "    </tr>\n",
       "  </thead>\n",
       "  <tbody>\n",
       "    <tr>\n",
       "      <th>cat</th>\n",
       "      <td>0.689772</td>\n",
       "      <td>0.815006</td>\n",
       "      <td>0.747178</td>\n",
       "      <td>1746.0000</td>\n",
       "    </tr>\n",
       "    <tr>\n",
       "      <th>dog</th>\n",
       "      <td>0.890024</td>\n",
       "      <td>0.803319</td>\n",
       "      <td>0.844452</td>\n",
       "      <td>3254.0000</td>\n",
       "    </tr>\n",
       "    <tr>\n",
       "      <th>accuracy</th>\n",
       "      <td>0.807400</td>\n",
       "      <td>0.807400</td>\n",
       "      <td>0.807400</td>\n",
       "      <td>0.8074</td>\n",
       "    </tr>\n",
       "    <tr>\n",
       "      <th>macro avg</th>\n",
       "      <td>0.789898</td>\n",
       "      <td>0.809162</td>\n",
       "      <td>0.795815</td>\n",
       "      <td>5000.0000</td>\n",
       "    </tr>\n",
       "    <tr>\n",
       "      <th>weighted avg</th>\n",
       "      <td>0.820096</td>\n",
       "      <td>0.807400</td>\n",
       "      <td>0.810484</td>\n",
       "      <td>5000.0000</td>\n",
       "    </tr>\n",
       "  </tbody>\n",
       "</table>\n",
       "</div>"
      ],
      "text/plain": [
       "              precision    recall  f1-score    support\n",
       "cat            0.689772  0.815006  0.747178  1746.0000\n",
       "dog            0.890024  0.803319  0.844452  3254.0000\n",
       "accuracy       0.807400  0.807400  0.807400     0.8074\n",
       "macro avg      0.789898  0.809162  0.795815  5000.0000\n",
       "weighted avg   0.820096  0.807400  0.810484  5000.0000"
      ]
     },
     "execution_count": 63,
     "metadata": {},
     "output_type": "execute_result"
    }
   ],
   "source": [
    "# Example from Ryan's explanation showing how to use sklearn for classification_report\n",
    "# When the row says cat, it's when cat is the positive case, when it says dog, it's when dog is the positive case.\n",
    "\n",
    "from sklearn.metrics import classification_report\n",
    "\n",
    "x = classification_report(pawsdf.actual, pawsdf.model1,\n",
    "                          labels = ['cat', 'dog'],\n",
    "                          output_dict=True)\n",
    "pd.DataFrame(x).T"
   ]
  },
  {
   "cell_type": "code",
   "execution_count": 64,
   "id": "c2776353",
   "metadata": {},
   "outputs": [
    {
     "data": {
      "text/plain": [
       "dog    3254\n",
       "cat    1746\n",
       "Name: actual, dtype: int64"
      ]
     },
     "execution_count": 64,
     "metadata": {},
     "output_type": "execute_result"
    }
   ],
   "source": [
    "pawsdf.actual.value_counts()"
   ]
  }
 ],
 "metadata": {
  "kernelspec": {
   "display_name": "Python 3 (ipykernel)",
   "language": "python",
   "name": "python3"
  },
  "language_info": {
   "codemirror_mode": {
    "name": "ipython",
    "version": 3
   },
   "file_extension": ".py",
   "mimetype": "text/x-python",
   "name": "python",
   "nbconvert_exporter": "python",
   "pygments_lexer": "ipython3",
   "version": "3.9.7"
  }
 },
 "nbformat": 4,
 "nbformat_minor": 5
}
